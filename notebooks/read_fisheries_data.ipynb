{
 "cells": [
  {
   "cell_type": "code",
   "execution_count": 1,
   "metadata": {},
   "outputs": [],
   "source": [
    "%matplotlib inline"
   ]
  },
  {
   "cell_type": "code",
   "execution_count": 2,
   "metadata": {},
   "outputs": [],
   "source": [
    "import pathlib"
   ]
  },
  {
   "cell_type": "code",
   "execution_count": 3,
   "metadata": {},
   "outputs": [],
   "source": [
    "import numpy as np"
   ]
  },
  {
   "cell_type": "code",
   "execution_count": 4,
   "metadata": {},
   "outputs": [],
   "source": [
    "import pandas as pd"
   ]
  },
  {
   "cell_type": "code",
   "execution_count": 5,
   "metadata": {},
   "outputs": [],
   "source": [
    "data_path = pathlib.Path('../data/')"
   ]
  },
  {
   "cell_type": "code",
   "execution_count": 6,
   "metadata": {},
   "outputs": [],
   "source": [
    "lfiles = list(data_path.glob(\"*\"))"
   ]
  },
  {
   "cell_type": "code",
   "execution_count": 7,
   "metadata": {},
   "outputs": [
    {
     "data": {
      "text/plain": [
       "[PosixPath('../data/age_kah2001_t_reading.csv'),\n",
       " PosixPath('../data/age_kah2001_t_catalog.csv'),\n",
       " PosixPath('../data/age_kah2001_t_age.csv'),\n",
       " PosixPath('../data/age.pdf'),\n",
       " PosixPath('../data/age_kah2001_t_trip.csv'),\n",
       " PosixPath('../data/age_kah2001.xlsx'),\n",
       " PosixPath('../data/age_kah2001_t_fish.csv')]"
      ]
     },
     "execution_count": 7,
     "metadata": {},
     "output_type": "execute_result"
    }
   ],
   "source": [
    "lfiles"
   ]
  },
  {
   "cell_type": "markdown",
   "metadata": {},
   "source": [
    "### read the dataset that seems to contains the fish weights "
   ]
  },
  {
   "cell_type": "code",
   "execution_count": 13,
   "metadata": {},
   "outputs": [],
   "source": [
    "fish_weights = pd.read_csv('../data/age_kah2001_t_fish.csv')"
   ]
  },
  {
   "cell_type": "code",
   "execution_count": 18,
   "metadata": {},
   "outputs": [
    {
     "data": {
      "text/plain": [
       "Index(['origin', '    yr', 'trip_code', '  sample_no', 'sub_sample_no',\n",
       "       'area ', 'species', '    fish_no', '  lgth', 'lgth_code', 'sex',\n",
       "       'gonad_stage', '     weight', 'otolith_weight', 'otolith_weight2',\n",
       "       'otolith_lgth', 'otolith_width', 'material1', 'material2',\n",
       "       'fish_select_meth', 'proj_code   ', 'collection_date', 'comments'],\n",
       "      dtype='object')"
      ]
     },
     "execution_count": 18,
     "metadata": {},
     "output_type": "execute_result"
    }
   ],
   "source": [
    "fish_weights.columns"
   ]
  },
  {
   "cell_type": "markdown",
   "metadata": {},
   "source": [
    "### remove the spaces in the columns "
   ]
  },
  {
   "cell_type": "code",
   "execution_count": 19,
   "metadata": {},
   "outputs": [],
   "source": [
    "fish_weights.columns = fish_weights.columns.str.strip(' ')"
   ]
  },
  {
   "cell_type": "markdown",
   "metadata": {},
   "source": [
    "### a good idea is to check the data type of each column "
   ]
  },
  {
   "cell_type": "code",
   "execution_count": 22,
   "metadata": {},
   "outputs": [
    {
     "name": "stdout",
     "output_type": "stream",
     "text": [
      "<class 'pandas.core.frame.DataFrame'>\n",
      "RangeIndex: 1040 entries, 0 to 1039\n",
      "Data columns (total 23 columns):\n",
      " #   Column            Non-Null Count  Dtype  \n",
      "---  ------            --------------  -----  \n",
      " 0   origin            1040 non-null   object \n",
      " 1   yr                1040 non-null   int64  \n",
      " 2   trip_code         1040 non-null   object \n",
      " 3   sample_no         1040 non-null   int64  \n",
      " 4   sub_sample_no     1040 non-null   int64  \n",
      " 5   area              1040 non-null   object \n",
      " 6   species           1040 non-null   object \n",
      " 7   fish_no           1040 non-null   int64  \n",
      " 8   lgth              1040 non-null   float64\n",
      " 9   lgth_code         1040 non-null   object \n",
      " 10  sex               1040 non-null   int64  \n",
      " 11  gonad_stage       846 non-null    float64\n",
      " 12  weight            1030 non-null   float64\n",
      " 13  otolith_weight    0 non-null      float64\n",
      " 14  otolith_weight2   0 non-null      float64\n",
      " 15  otolith_lgth      0 non-null      float64\n",
      " 16  otolith_width     0 non-null      float64\n",
      " 17  material1         1040 non-null   int64  \n",
      " 18  material2         0 non-null      float64\n",
      " 19  fish_select_meth  1040 non-null   int64  \n",
      " 20  proj_code         1040 non-null   object \n",
      " 21  collection_date   1040 non-null   object \n",
      " 22  comments          0 non-null      float64\n",
      "dtypes: float64(9), int64(7), object(7)\n",
      "memory usage: 187.0+ KB\n"
     ]
    }
   ],
   "source": [
    "fish_weights.info()"
   ]
  },
  {
   "cell_type": "code",
   "execution_count": 23,
   "metadata": {},
   "outputs": [
    {
     "data": {
      "text/plain": [
       "array(['SNA'], dtype=object)"
      ]
     },
     "execution_count": 23,
     "metadata": {},
     "output_type": "execute_result"
    }
   ],
   "source": [
    "fish_weights.species.unique()"
   ]
  },
  {
   "cell_type": "code",
   "execution_count": 25,
   "metadata": {},
   "outputs": [
    {
     "data": {
      "text/plain": [
       "array([2, 3, 1])"
      ]
     },
     "execution_count": 25,
     "metadata": {},
     "output_type": "execute_result"
    }
   ],
   "source": [
    "fish_weights.sex.unique()"
   ]
  },
  {
   "cell_type": "markdown",
   "metadata": {},
   "source": [
    "### from the description on page 20 of `age.pdf`, the codes are `1=Male, 2=Female, 3=immature`"
   ]
  },
  {
   "cell_type": "markdown",
   "metadata": {},
   "source": [
    "### we can quickly get a summary "
   ]
  },
  {
   "cell_type": "code",
   "execution_count": 34,
   "metadata": {},
   "outputs": [
    {
     "data": {
      "text/html": [
       "<div>\n",
       "<style scoped>\n",
       "    .dataframe tbody tr th:only-of-type {\n",
       "        vertical-align: middle;\n",
       "    }\n",
       "\n",
       "    .dataframe tbody tr th {\n",
       "        vertical-align: top;\n",
       "    }\n",
       "\n",
       "    .dataframe thead tr th {\n",
       "        text-align: left;\n",
       "    }\n",
       "\n",
       "    .dataframe thead tr:last-of-type th {\n",
       "        text-align: right;\n",
       "    }\n",
       "</style>\n",
       "<table border=\"1\" class=\"dataframe\">\n",
       "  <thead>\n",
       "    <tr>\n",
       "      <th></th>\n",
       "      <th colspan=\"8\" halign=\"left\">weight</th>\n",
       "    </tr>\n",
       "    <tr>\n",
       "      <th></th>\n",
       "      <th>count</th>\n",
       "      <th>mean</th>\n",
       "      <th>std</th>\n",
       "      <th>min</th>\n",
       "      <th>25%</th>\n",
       "      <th>50%</th>\n",
       "      <th>75%</th>\n",
       "      <th>max</th>\n",
       "    </tr>\n",
       "    <tr>\n",
       "      <th>sex</th>\n",
       "      <th></th>\n",
       "      <th></th>\n",
       "      <th></th>\n",
       "      <th></th>\n",
       "      <th></th>\n",
       "      <th></th>\n",
       "      <th></th>\n",
       "      <th></th>\n",
       "    </tr>\n",
       "  </thead>\n",
       "  <tbody>\n",
       "    <tr>\n",
       "      <th>1</th>\n",
       "      <td>390.0</td>\n",
       "      <td>758.115385</td>\n",
       "      <td>447.932089</td>\n",
       "      <td>90.0</td>\n",
       "      <td>452.5</td>\n",
       "      <td>658.0</td>\n",
       "      <td>997.5</td>\n",
       "      <td>3768.0</td>\n",
       "    </tr>\n",
       "    <tr>\n",
       "      <th>2</th>\n",
       "      <td>509.0</td>\n",
       "      <td>809.970530</td>\n",
       "      <td>577.391270</td>\n",
       "      <td>62.0</td>\n",
       "      <td>444.0</td>\n",
       "      <td>702.0</td>\n",
       "      <td>1002.0</td>\n",
       "      <td>4448.0</td>\n",
       "    </tr>\n",
       "    <tr>\n",
       "      <th>3</th>\n",
       "      <td>131.0</td>\n",
       "      <td>82.610687</td>\n",
       "      <td>198.426912</td>\n",
       "      <td>12.0</td>\n",
       "      <td>22.0</td>\n",
       "      <td>40.0</td>\n",
       "      <td>74.0</td>\n",
       "      <td>1694.0</td>\n",
       "    </tr>\n",
       "  </tbody>\n",
       "</table>\n",
       "</div>"
      ],
      "text/plain": [
       "    weight                                                            \n",
       "     count        mean         std   min    25%    50%     75%     max\n",
       "sex                                                                   \n",
       "1    390.0  758.115385  447.932089  90.0  452.5  658.0   997.5  3768.0\n",
       "2    509.0  809.970530  577.391270  62.0  444.0  702.0  1002.0  4448.0\n",
       "3    131.0   82.610687  198.426912  12.0   22.0   40.0    74.0  1694.0"
      ]
     },
     "execution_count": 34,
     "metadata": {},
     "output_type": "execute_result"
    }
   ],
   "source": [
    "fish_weights.groupby(fish_weights.sex)[['weight']].describe()"
   ]
  },
  {
   "cell_type": "code",
   "execution_count": null,
   "metadata": {},
   "outputs": [],
   "source": [
    "we ca"
   ]
  },
  {
   "cell_type": "code",
   "execution_count": 33,
   "metadata": {},
   "outputs": [
    {
     "data": {
      "text/html": [
       "<div>\n",
       "<style scoped>\n",
       "    .dataframe tbody tr th:only-of-type {\n",
       "        vertical-align: middle;\n",
       "    }\n",
       "\n",
       "    .dataframe tbody tr th {\n",
       "        vertical-align: top;\n",
       "    }\n",
       "\n",
       "    .dataframe thead th {\n",
       "        text-align: right;\n",
       "    }\n",
       "</style>\n",
       "<table border=\"1\" class=\"dataframe\">\n",
       "  <thead>\n",
       "    <tr style=\"text-align: right;\">\n",
       "      <th></th>\n",
       "      <th>weight</th>\n",
       "    </tr>\n",
       "    <tr>\n",
       "      <th>sex</th>\n",
       "      <th></th>\n",
       "    </tr>\n",
       "  </thead>\n",
       "  <tbody>\n",
       "    <tr>\n",
       "      <th>1</th>\n",
       "      <td>423.2</td>\n",
       "    </tr>\n",
       "    <tr>\n",
       "      <th>2</th>\n",
       "      <td>398.0</td>\n",
       "    </tr>\n",
       "    <tr>\n",
       "      <th>3</th>\n",
       "      <td>20.0</td>\n",
       "    </tr>\n",
       "  </tbody>\n",
       "</table>\n",
       "</div>"
      ],
      "text/plain": [
       "     weight\n",
       "sex        \n",
       "1     423.2\n",
       "2     398.0\n",
       "3      20.0"
      ]
     },
     "execution_count": 33,
     "metadata": {},
     "output_type": "execute_result"
    }
   ],
   "source": [
    "fish_weights.groupby(fish_weights.sex)[['weight']].quantile(0.2)"
   ]
  },
  {
   "cell_type": "code",
   "execution_count": 37,
   "metadata": {},
   "outputs": [
    {
     "data": {
      "text/html": [
       "<div>\n",
       "<style scoped>\n",
       "    .dataframe tbody tr th:only-of-type {\n",
       "        vertical-align: middle;\n",
       "    }\n",
       "\n",
       "    .dataframe tbody tr th {\n",
       "        vertical-align: top;\n",
       "    }\n",
       "\n",
       "    .dataframe thead tr th {\n",
       "        text-align: left;\n",
       "    }\n",
       "\n",
       "    .dataframe thead tr:last-of-type th {\n",
       "        text-align: right;\n",
       "    }\n",
       "</style>\n",
       "<table border=\"1\" class=\"dataframe\">\n",
       "  <thead>\n",
       "    <tr>\n",
       "      <th></th>\n",
       "      <th colspan=\"14\" halign=\"left\">weight</th>\n",
       "    </tr>\n",
       "    <tr>\n",
       "      <th></th>\n",
       "      <th>count</th>\n",
       "      <th>mean</th>\n",
       "      <th>std</th>\n",
       "      <th>min</th>\n",
       "      <th>10%</th>\n",
       "      <th>20%</th>\n",
       "      <th>30%</th>\n",
       "      <th>40%</th>\n",
       "      <th>50%</th>\n",
       "      <th>60%</th>\n",
       "      <th>70%</th>\n",
       "      <th>80%</th>\n",
       "      <th>90%</th>\n",
       "      <th>max</th>\n",
       "    </tr>\n",
       "    <tr>\n",
       "      <th>sex</th>\n",
       "      <th></th>\n",
       "      <th></th>\n",
       "      <th></th>\n",
       "      <th></th>\n",
       "      <th></th>\n",
       "      <th></th>\n",
       "      <th></th>\n",
       "      <th></th>\n",
       "      <th></th>\n",
       "      <th></th>\n",
       "      <th></th>\n",
       "      <th></th>\n",
       "      <th></th>\n",
       "      <th></th>\n",
       "    </tr>\n",
       "  </thead>\n",
       "  <tbody>\n",
       "    <tr>\n",
       "      <th>1</th>\n",
       "      <td>390.0</td>\n",
       "      <td>758.115385</td>\n",
       "      <td>447.932089</td>\n",
       "      <td>90.0</td>\n",
       "      <td>311.4</td>\n",
       "      <td>423.2</td>\n",
       "      <td>481.4</td>\n",
       "      <td>556.0</td>\n",
       "      <td>658.0</td>\n",
       "      <td>762.0</td>\n",
       "      <td>900.0</td>\n",
       "      <td>1088.8</td>\n",
       "      <td>1318.6</td>\n",
       "      <td>3768.0</td>\n",
       "    </tr>\n",
       "    <tr>\n",
       "      <th>2</th>\n",
       "      <td>509.0</td>\n",
       "      <td>809.970530</td>\n",
       "      <td>577.391270</td>\n",
       "      <td>62.0</td>\n",
       "      <td>245.6</td>\n",
       "      <td>398.0</td>\n",
       "      <td>496.0</td>\n",
       "      <td>594.2</td>\n",
       "      <td>702.0</td>\n",
       "      <td>815.6</td>\n",
       "      <td>913.2</td>\n",
       "      <td>1096.0</td>\n",
       "      <td>1364.4</td>\n",
       "      <td>4448.0</td>\n",
       "    </tr>\n",
       "    <tr>\n",
       "      <th>3</th>\n",
       "      <td>131.0</td>\n",
       "      <td>82.610687</td>\n",
       "      <td>198.426912</td>\n",
       "      <td>12.0</td>\n",
       "      <td>16.0</td>\n",
       "      <td>20.0</td>\n",
       "      <td>26.0</td>\n",
       "      <td>32.0</td>\n",
       "      <td>40.0</td>\n",
       "      <td>48.0</td>\n",
       "      <td>62.0</td>\n",
       "      <td>80.0</td>\n",
       "      <td>118.0</td>\n",
       "      <td>1694.0</td>\n",
       "    </tr>\n",
       "  </tbody>\n",
       "</table>\n",
       "</div>"
      ],
      "text/plain": [
       "    weight                                                                   \\\n",
       "     count        mean         std   min    10%    20%    30%    40%    50%   \n",
       "sex                                                                           \n",
       "1    390.0  758.115385  447.932089  90.0  311.4  423.2  481.4  556.0  658.0   \n",
       "2    509.0  809.970530  577.391270  62.0  245.6  398.0  496.0  594.2  702.0   \n",
       "3    131.0   82.610687  198.426912  12.0   16.0   20.0   26.0   32.0   40.0   \n",
       "\n",
       "                                           \n",
       "       60%    70%     80%     90%     max  \n",
       "sex                                        \n",
       "1    762.0  900.0  1088.8  1318.6  3768.0  \n",
       "2    815.6  913.2  1096.0  1364.4  4448.0  \n",
       "3     48.0   62.0    80.0   118.0  1694.0  "
      ]
     },
     "execution_count": 37,
     "metadata": {},
     "output_type": "execute_result"
    }
   ],
   "source": [
    "fish_weights.groupby(fish_weights.sex)[['weight']].describe(percentiles=np.arange(0.1,1,0.1))"
   ]
  },
  {
   "cell_type": "code",
   "execution_count": 38,
   "metadata": {},
   "outputs": [],
   "source": [
    "import seaborn as sns"
   ]
  },
  {
   "cell_type": "code",
   "execution_count": 39,
   "metadata": {},
   "outputs": [
    {
     "data": {
      "text/plain": [
       "<matplotlib.axes._subplots.AxesSubplot at 0x7f814d875590>"
      ]
     },
     "execution_count": 39,
     "metadata": {},
     "output_type": "execute_result"
    },
    {
     "data": {
      "image/png": "[encoded data removed]",
      "text/plain": [
       "<Figure size 432x288 with 1 Axes>"
      ]
     },
     "metadata": {
      "needs_background": "light"
     },
     "output_type": "display_data"
    }
   ],
   "source": [
    "sns.violinplot(data=fish_weights, x=\"sex\", y=\"weight\")"
   ]
  },
  {
   "cell_type": "code",
   "execution_count": 40,
   "metadata": {},
   "outputs": [
    {
     "data": {
      "image/png": "[encoded data removed]",
      "text/plain": [
       "<Figure size 432x288 with 1 Axes>"
      ]
     },
     "metadata": {
      "needs_background": "light"
     },
     "output_type": "display_data"
    }
   ],
   "source": [
    "ax = sns.swarmplot(data=fish_weights, x=\"sex\", y=\"weight\") "
   ]
  },
  {
   "cell_type": "code",
   "execution_count": 47,
   "metadata": {},
   "outputs": [
    {
     "data": {
      "image/png": "[encoded data removed]",
      "text/plain": [
       "<Figure size 432x288 with 1 Axes>"
      ]
     },
     "metadata": {
      "needs_background": "light"
     },
     "output_type": "display_data"
    }
   ],
   "source": [
    "ax = sns.distplot(fish_weights.query(\"sex == 1\")['weight'])\n",
    "ax.set_xlim(0, None);\n",
    "ax.set_title('fish weight for males');"
   ]
  },
  {
   "cell_type": "code",
   "execution_count": null,
   "metadata": {},
   "outputs": [],
   "source": []
  },
  {
   "cell_type": "code",
   "execution_count": null,
   "metadata": {},
   "outputs": [],
   "source": []
  },
  {
   "cell_type": "code",
   "execution_count": null,
   "metadata": {},
   "outputs": [],
   "source": []
  }
 ],
 "metadata": {
  "kernelspec": {
   "display_name": "Python 3",
   "language": "python",
   "name": "python3"
  },
  "language_info": {
   "codemirror_mode": {
    "name": "ipython",
    "version": 3
   },
   "file_extension": ".py",
   "mimetype": "text/x-python",
   "name": "python",
   "nbconvert_exporter": "python",
   "pygments_lexer": "ipython3",
   "version": "3.7.6"
  }
 },
 "nbformat": 4,
 "nbformat_minor": 4
}
