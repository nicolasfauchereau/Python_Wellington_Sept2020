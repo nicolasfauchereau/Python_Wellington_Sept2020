{
 "cells": [
  {
   "cell_type": "markdown",
   "metadata": {},
   "source": [
    "# resources"
   ]
  },
  {
   "cell_type": "markdown",
   "metadata": {},
   "source": [
    "### Object Oriented Programming in Python "
   ]
  },
  {
   "cell_type": "markdown",
   "metadata": {},
   "source": [
    "+ [A good tutorial by Alan Gauld](http://www.alan-g.me.uk/l2p/)\n",
    "+ The [classes](http://docs.python.org/2/tutorial/classes.html) entry from the official Python doc \n",
    "+ A short [pdf](http://www1.gly.bris.ac.uk/~walker/PythonEarthSci/PfES_3.pdf) from Andrew Walker's [Python for Earth Scientists](http://www1.gly.bris.ac.uk/~walker/PythonEarthSci/) course\n"
   ]
  },
  {
   "cell_type": "markdown",
   "metadata": {},
   "source": [
    "### Python as a glue: wrapping of C, C++, Fortran or the Cython module  "
   ]
  },
  {
   "cell_type": "markdown",
   "metadata": {},
   "source": [
    "+ [using python as a *glue*](http://docs.scipy.org/doc/numpy/user/c-info.python-as-glue.html)\n",
    "+ [SWIG (Simplified Wrapper and Interface Generator)](http://www.swig.org/Doc1.3/Python.html)\n",
    "+ [Cython](http://cython.org)\n",
    "+ [f2py](https://github.com/pearu/f2py/wiki)\n",
    "+ [A notebook on using C and Fortran with Python](http://nbviewer.ipython.org/github/jrjohansson/scientific-python-lectures/blob/master/Lecture-6A-Fortran-and-C.ipynb)"
   ]
  },
  {
   "cell_type": "markdown",
   "metadata": {},
   "source": [
    "### Real-time acquisition, physical programming"
   ]
  },
  {
   "cell_type": "markdown",
   "metadata": {},
   "source": [
    "+ [pyserial](https://github.com/pyserial/pyserial): Module that encapsulates the access for the serial port\n",
    "+ [Real World Instrumentation, Automated Data Acquisition and Control Systems](http://www.amazon.com/Real-World-Instrumentation-Python-Acquisition/dp/0596809565): A book available on Amazon.\n",
    "+ [PyVISA](https://pyvisa.readthedocs.org/en/latest/): The PyVISA package enables you to control all kinds of measurement equipment through various busses (GPIB, RS232, USB) with Python programs"
   ]
  },
  {
   "cell_type": "markdown",
   "metadata": {},
   "source": [
    "### Image processing"
   ]
  },
  {
   "cell_type": "markdown",
   "metadata": {},
   "source": [
    "+ [pillow](http://python-pillow.github.io/): Image processing capabilities \n",
    "+ [scikit-image](http://scikit-image.org): more Image processing, built on top of Numpy / Scipy."
   ]
  },
  {
   "cell_type": "markdown",
   "metadata": {},
   "source": [
    "### Symbolic maths"
   ]
  },
  {
   "cell_type": "markdown",
   "metadata": {},
   "source": [
    "+ The [SymPy](www.sympy.org) library is a Python library for symbolic mathematics. It supports polynomials, calculus, solving equations, etc\n",
    "+ The [sage](http://www.sagemath.org/) software: `Mission: Creating a viable free open source alternative to Magma, Maple, Mathematica and Matlab`"
   ]
  },
  {
   "cell_type": "markdown",
   "metadata": {},
   "source": [
    "### Geospatial statistics"
   ]
  },
  {
   "cell_type": "markdown",
   "metadata": {},
   "source": [
    "+ [PySAL](http://pysal.readthedocs.org/en/v1.6/): PySAL is a cross-platform library of spatial analysis functions written in Python. It is intended to support the development of high level applications for spatial analysis.\n",
    "+ [GeoPandas](http://geopandas.org/): A project based on [Pandas](http://pandas.pydata.org/) to make working with geospatial data in python easier\n",
    "+ [Rasterio](https://github.com/mapbox/rasterio): Clean and fast and geospatial raster I/O with Numpy support, developed by the team at [https://www.mapbox.com/](https://www.mapbox.com/)\n",
    "+ [Pyproj](https://code.google.com/p/pyproj/): Performs cartographic transformations and geodetic computations. Wrapper around the Proj version 4 library\n",
    "+ [Python GDAL/OGR](https://pypi.python.org/pypi/GDAL/): Python bindings + tools around the Geospatial Data Abstraction Library\n",
    "+ [Python GIS resources](http://pythongisresources.wordpress.com/interpolation): a blog on geospatial python\n",
    "+ [High Performance Geostatistics Library](http://hpgl.mit-ufa.com/): A library written in C++ / Python implementing geostatistical algorithms (*e.g.* kriging, correlograms, etc)"
   ]
  },
  {
   "cell_type": "markdown",
   "metadata": {},
   "source": [
    "### computational statistics in Python"
   ]
  },
  {
   "cell_type": "markdown",
   "metadata": {},
   "source": [
    "+ [Computational Statistics in Python](http://people.duke.edu/~ccc14/sta-663-2017/): impressive resource on computational stats with Python, from the basics to more advanced topics"
   ]
  },
  {
   "cell_type": "markdown",
   "metadata": {},
   "source": [
    "### Bayesian statistics with Python"
   ]
  },
  {
   "cell_type": "markdown",
   "metadata": {},
   "source": [
    "+ [Think Bayes](https://github.com/AllenDowney/ThinkBayes2): The code examples and Jupyter notebooks for the (free) book **Think Bayes** by Allen Downey, available [here](http://greenteapress.com/wp/think-bayes/)\n",
    "+ [Bayesian Methods for Hackers](https://github.com/CamDavidsonPilon/Probabilistic-Programming-and-Bayesian-Methods-for-Hackers): Code examples and Jupyter notebook accompanying the book [Bayesian Methods for Hackers: Probabilistic Programming and Bayesian Inference](https://www.amazon.com/Bayesian-Methods-Hackers-Probabilistic-Addison-Wesley/dp/0133902838)\n",
    "+ [pyMC3](http://pymc-devs.github.io/pymc3/): Bayesian statistical modeling and Probabilistic Machine Learning\n",
    "+ [Statistical Rethinking in Python](https://github.com/pymc-devs/resources/tree/master/Rethinking): Porting the example in the book [Statistical Rethinking, by R. MacElreath](http://xcelab.net/rm/statistical-rethinking/) from R/Stan to Python"
   ]
  },
  {
   "cell_type": "markdown",
   "metadata": {},
   "source": [
    "### Climate and Meteorology"
   ]
  },
  {
   "cell_type": "markdown",
   "metadata": {},
   "source": [
    "+ [The UNIDATA gallery](http://unidata.github.io/python-gallery/index.html)\n",
    "+ [MetPy](https://github.com/Unidata/MetPy): a Python package for Meteorological data, can do stuff like plot sounding data, meteograms, etc"
   ]
  },
  {
   "cell_type": "markdown",
   "metadata": {},
   "source": [
    "### Biology, ecology"
   ]
  },
  {
   "cell_type": "markdown",
   "metadata": {},
   "source": [
    "+ [Biopython](http://biopython.org/wiki/Main_Page): Biopython is a set of freely available tools for biological computation written in Python by an international team of developers. \n",
    "+ [GeoEco](https://pypi.python.org/pypi/GeoEco): Open source geoprocessing toolbox designed for coastal and marine researchers and GIS analysts who work with spatially-explicit ecological and oceanographic data. For Windows (> XP) only.\n",
    "+ [Galaxy](http://galaxyproject.org/): Galaxy is a scientific workflow, data integration and data and analysis persistence and publishing platform that aims to make computational biology accessible to research scientists that do not have computer programming experience."
   ]
  },
  {
   "cell_type": "markdown",
   "metadata": {},
   "source": [
    "### Computational Fluid Dynamics and PDE solvers"
   ]
  },
  {
   "cell_type": "markdown",
   "metadata": {},
   "source": [
    "+ [CFD Python: 12 steps to Navier-Stokes](http://lorenabarba.com/blog/cfd-python-12-steps-to-navier-stokes/)\n",
    "+ [github repository for the above](https://github.com/barbagroup/CFDPython)\n",
    "+ [Python bindings to OpenFOAM](http://openfoamwiki.net/index.php/Contrib_PyFoam)\n",
    "+ [FiPy: A Finite Volume PDE Solver Using Python](http://matforge.org/fipy/)\n",
    "+ [\"Practical Numerical Methods with Python\" MOOC](http://openedx.seas.gwu.edu/courses/GW/MAE6286/2014_fall/about)"
   ]
  },
  {
   "cell_type": "markdown",
   "metadata": {},
   "source": [
    "### Python on the GPU "
   ]
  },
  {
   "cell_type": "markdown",
   "metadata": {},
   "source": [
    "+ [PyCUDA](http://mathema.tician.de/software/pycuda/): PyCUDA lets you access Nvidia‘s CUDA parallel computation API from Python"
   ]
  },
  {
   "cell_type": "markdown",
   "metadata": {},
   "source": [
    "### Parallel computing with Python / IPython"
   ]
  },
  {
   "cell_type": "markdown",
   "metadata": {},
   "source": [
    "+ [IPython parallel introduction](http://ipython.org/ipython-doc/2/parallel/parallel_intro.html)\n",
    "+ [Interactive Parallel computing with IPython](https://www.youtube.com/watch?v=y4hgalfhc1Y&index=49&list=PLYx7XA2nY5GfuhCvStxgbynFNrxr3VFog): tutorials by Min. Raglan-Kelley at Scipy2014 (3 parts in the youtube list)\n",
    "+ [IPython parallel for distributed computing](https://www.youtube.com/watch?v=eyUeYnT-18s&index=32&list=PLs4CJRBY5F1Jm7H1dlesRvEgr-28QGXpR): A talk at PyCON Australia by Nathan Faggian\n",
    "+ [IPython & Jupyter in depth: high productivity interactive and parallel python](https://www.youtube.com/watch?v=05fA_DXgW-Y): A talk at PyCON 2015 by Thomas Kluyver and Kyle Kelley\n",
    "+ [Parallelizing Scientific Python with Dask | SciPy 2018 Tutorial | James Crist, Martin Durant](https://www.youtube.com/watch?v=mqdglv9GnM8) and [https://github.com/martindurant/dask-tutorial-scipy-2018](https://github.com/martindurant/dask-tutorial-scipy-2018)"
   ]
  },
  {
   "cell_type": "markdown",
   "metadata": {},
   "source": [
    "### Signal processing in Python"
   ]
  },
  {
   "cell_type": "markdown",
   "metadata": {},
   "source": [
    "+ [scipy.signal](http://docs.scipy.org/doc/scipy/reference/tutorial/signal.html)\n",
    "+ [Python for signal processing blog](http://python-for-signal-processing.blogspot.co.nz/)\n",
    "+ [Python for signal processing github repository](https://github.com/unpingco/Python-for-Signal-Processing)\n",
    "+ [Python for signal processing book](http://www.springer.com/engineering/signals/book/978-3-319-01341-1)"
   ]
  },
  {
   "cell_type": "markdown",
   "metadata": {},
   "source": [
    "### Python for Matlab and R users "
   ]
  },
  {
   "cell_type": "markdown",
   "metadata": {},
   "source": [
    "+ [Moving from MATLAB matrices to NumPy arrays - A Matrix Cheatsheet](http://sebastianraschka.com/Articles/2014_matlab_vs_numpy.html)\n",
    "+ [NumPy for Matlab Users](http://wiki.scipy.org/NumPy_for_Matlab_Users)\n",
    "+ [White paper from Enthought](https://www.enthought.com/white-paper-matlab-to-python/)\n"
   ]
  },
  {
   "cell_type": "markdown",
   "metadata": {},
   "source": [
    "### Some URLs and blogs, notebooks repositories for climatology / meteorology / oceanography"
   ]
  },
  {
   "cell_type": "markdown",
   "metadata": {},
   "source": [
    "+ [Python Scientific Lectures Notes](http://scipy-lectures.github.io): Tutorial material on the scientific Python ecosystem, a quick introduction to central tools and techniques.\n",
    "\n",
    "+ [Python for earth scientists](http://www1.gly.bris.ac.uk/~walker/PythonEarthSci/): A two afternoons course by Andrew Walker (University of Bristol) on Python in the earth sciences. \n",
    "\n",
    "+ [oceanpython](http://oceanpython.org/): Python for oceanography \n",
    "\n",
    "+ [PyAOS](http://pyaos.johnny-lin.com/): Python for the Atmospheric and Oceanic Sciences \n",
    "\n",
    "+ [python4oceanographers](http://ocefpaf.github.io/): Learn python with examples applied to marine sciences.\n",
    "\n",
    "+ [http://earthpy.org/](http://earthpy.org/): EarthPy is a collection of IPython notebooks with examples of Earth Science related Python code\n",
    "\n",
    "+ [Jupyter notebook gallery from Unidata](http://unidata.github.io/notebook-gallery/): Exploring using Python for Meteorology"
   ]
  },
  {
   "cell_type": "markdown",
   "metadata": {},
   "source": [
    "### Github repositories: notebooks and accompanying material"
   ]
  },
  {
   "cell_type": "markdown",
   "metadata": {},
   "source": [
    "+ [A gallery of interesting Jupyter Notebooks](https://github.com/jupyter/jupyter/wiki/A-gallery-of-interesting-Jupyter-Notebooks)\n",
    "\"...a curated collection of Jupyter notebooks that are notable for some reason.\"\n",
    "\n",
    "+ [Scikit-learn tutorial](https://github.com/jakevdp/sklearn_scipy2013): Files and other info associated with the Scipy 2013 scikit-learn tutorial developed by Gaël Varoquaux, Olivier Grisel and Jake VanderPlas.\n",
    "\n",
    "+ [Statistical Analysis tutorial](https://github.com/fonnesbeck/statistical-analysis-python-tutorial) from Chris. Fonnesbeck. \n",
    "\n",
    "+ [Bayesian Statistical Analysis in Python](https://github.com/fonnesbeck/scipy2014_tutorial): Ipython notebooks for the Scipy 2014 tutorial on Bayesian data analysis with Python, by Chris. Fonnesbeck. \n",
    "\n",
    "+ [AstroML: Machine Learning and Data Mining for Astronomy](http://www.astroml.org): A library and tutorial by Jake VanderPlas and co-authors, accompanying the book [Statistics, Data Mining, and Machine Learning in Astronomy](http://www.amazon.com/Statistics-Mining-Machine-Learning-Astronomy/dp/0691151687/)\n",
    "\n",
    "+ [Scientific Python lectures from Robert Johansson](https://github.com/jrjohansson/scientific-python-lectures)\n",
    "\n",
    "+ [Data Science in Python](http://blog.yhathq.com/posts/data-science-in-python-tutorial.html): A series of annotated notebooks on data science (i.e. geared towards machine learning) in python\n",
    "\n",
    "+ [Pythonic perambulations](http://jakevdp.github.io): A blog by Jake VanderPlas\n"
   ]
  },
  {
   "cell_type": "markdown",
   "metadata": {},
   "source": [
    "### Some books "
   ]
  },
  {
   "cell_type": "markdown",
   "metadata": {},
   "source": [
    "+ [Python for Data Analysis](http://shop.oreilly.com/product/0636920023784.do): From Wes McKinney (Developer of [Pandas](www.pandas.pydata.org))\n",
    "\n",
    "+ [Think stats](http://www.greenteapress.com/thinkstats/): Probability and statistics for programmers, from Allen Downey, pdf available for free. \n",
    "\n",
    "+ [Think complexity](http://www.greenteapress.com/compmod/): Complexity science (graphs, cellular automata, agent-based models), from Allen Downey, pdf available for free.\n",
    "\n",
    "+ [Python in hydrology](http://www.greenteapress.com/pythonhydro/pythonhydro.html): A book freely available in pdf, from Sat Kumar Tomer.\n",
    "\n",
    "+ [Programming collective intelligence](http://shop.oreilly.com/product/9780596529321.do): By Toby Segaran, Good intro on (general) Machine Learning algorithms.\n",
    "\n",
    "+ [Machine Learning in action](http://www.manning.com/pharrington/): By Peter Harrington.\n",
    "\n",
    "+ [Introduction to Python for Econometrics, Statistics and Numerical Analysis: Second Edition](http://www.kevinsheppard.com/images/0/09/Python_introduction.pdf): By Kevin Sheppard, Oxford Uni.\n",
    "\n",
    "+ [A Hands-On Introduction to Using Python in the Atmospheric and Oceanic Sciences](http://www.johnny-lin.com/pyintro/): By [Johnny Lin](http://www.johnny-lin.com), Professor of physics and head of the Climate Research Group at North Park University.\n",
    "\n",
    "+ [principles of planetary climate](http://geosci.uchicago.edu/~rtp1/PrinciplesPlanetaryClimate/index.html): by Ray Pierrehumbert. Excellent book on the physics of planetary climates, with freely downloadable python code to follow the examples given in the book. "
   ]
  },
  {
   "cell_type": "markdown",
   "metadata": {},
   "source": [
    "### Some interesting libraries, built on top of the main Scientific stack"
   ]
  },
  {
   "cell_type": "markdown",
   "metadata": {},
   "source": [
    "+ [Seaborn](http://www.stanford.edu/~mwaskom/software/seaborn/): Statistical data visualization, by Michael Waskom. Its [graphical representation of linear models](http://www.stanford.edu/~mwaskom/software/seaborn/linear_models.html) is particularly interesting. \n",
    "\n",
    "+ [ggplot](https://github.com/yhat/ggplot/): For [R](http://cran.r-project.org) users, a 'port' of the [ggplot2](http://ggplot2.org) package to Python, see [here](http://blog.yhathq.com/posts/ggplot-0.4-released.html) for what's new in the latest release. \n",
    "\n",
    "+ [coards](https://pypi.python.org/pypi/coards): A COARDS compliant time parser. See also [netcdftime](http://netcdf4-python.googlecode.com/svn/trunk/docs/netcdftime.netcdftime-module.html) which is part of the [NetCDF4 module](https://code.google.com/p/netcdf4-python/)\n",
    "\n",
    "+ [seawater](http://www.imr.no/~bjorn/python/seawater/index.html): Similar to the MATLAB toolboxes SEAWATER from CSIRO and parts of OCEANS from Woods Hole Institute.\n",
    "\n",
    "+ [fluid](https://pypi.python.org/pypi/fluid): Procedures to study fluids on Python, focused for oceanography, meteorology and related sciences.\n",
    "\n",
    "+ [wavelet](https://github.com/nicolasfauchereau/wavelet): Python wavelet software provided by Evgeniya Predybaylo based on Torrence and Compo (1998) and is available at URL: http://atoc.colorado.edu/research/wavelets/\n",
    "\n",
    "+ [kyPyWavelet](https://github.com/regeirk/kPyWavelet): Continuous wavelet transform module for Python *ala* Torrence and Compo. Some manual edits were necessary to make it work for me ... \n",
    "\n",
    "+ [pyresample](https://code.google.com/p/pyresample/): Resampling (reprojection) of geospatial image data in Python\n",
    "\n",
    "+ [Rpy2](http://rpy.sourceforge.net/rpy2.html): calling R from Python"
   ]
  },
  {
   "cell_type": "markdown",
   "metadata": {},
   "source": [
    "### Some articles on open and reproducible research"
   ]
  },
  {
   "cell_type": "markdown",
   "metadata": {},
   "source": [
    "+ [Reproducible Research in Computational Science](http://dx.doi.org/10.1126/science.1213847), Roger D. Peng, Science 334, 1226 (2011).\n",
    "\n",
    "+ [Shining Light into Black Boxes](http://dx.doi.org/10.1126/science.1218263), A. Morin et al., Science 336, 159-160 (2012).\n",
    " \n",
    "+ [The case for open computer programs](http://dx.doi.org/doi:10.1038/nature10836), D.C. Ince, Nature 482, 485 (2012).\n",
    "\n",
    "+ [Best practices for scientific computing](http://www.plosbiology.org/article/info%3Adoi%2F10.1371%2Fjournal.pbio.1001745): Paper in PLOS Biology exposing some of the tools and methods to build better Scientific software.\n"
   ]
  },
  {
   "cell_type": "markdown",
   "metadata": {},
   "source": [
    "## Acknowledgments"
   ]
  },
  {
   "cell_type": "markdown",
   "metadata": {},
   "source": [
    "In building this material, I have liberally '*borrowed*' from lecture notes, online notebooks, video recording of talks, code examples, articles, etc, that are freely available online, I would like to acknowledge in particular (list not exhaustive and in no particular order): \n",
    "\n",
    "+ [Fernando Perez](http://blog.fperez.org): Lead developer of [IPython](www.ipython.org), great advocate of [open science](http://en.wikipedia.org/wiki/Open_science) and reproducible research\n",
    "+ Brian Granger: Lead developer of the [IPython notebook](http://ipython.org/notebook.html)\n",
    "+ [Wes McKinney](http://blog.wesmckinney.com): Lead developer of Pandas, author of [Python for Data Analysis](http://shop.oreilly.com/product/0636920023784.do)\n",
    "+ [Christopher Fonnesbeck](http://biostat.mc.vanderbilt.edu/wiki/Main/ChrisFonnesbeck): developer of [PYMC](http://pymc-devs.github.io/pymc/) (Bayesian statistical models and fitting algorithms, including Markov chain Monte Carlo)\n",
    "+ [Jake VanderPlas](http://www.astro.washington.edu/users/vanderplas/): Astronomer, contributor to [scikit-learn](http://scikit-learn.org)\n",
    "+ [Gaël Varoquaux](http://gael-varoquaux.info): One of the main contributors to [scikit-learn](http://scikit-learn.org)\n",
    "+ [Olivier Grisel](http://ogrisel.com): Also main contributor to [scikit-learn](http://scikit-learn.org)\n",
    "+ [Travis Oliphant](http://technicaldiscovery.blogspot.co.nz): One of the lead developers of Numpy / Scipy, and founder of [Continuum Analytics](http://continuum.io).\n",
    "+ [J.R. Johansson](http://jrjohansson.github.io/index.html): Author of [https://github.com/jrjohansson/scientific-python-lectures](https://github.com/jrjohansson/scientific-python-lectures)\n",
    "+ [Thomas Wiecki](http://twiecki.github.io/): developer of [PYMC3](https://github.com/pymc-devs/pymc), a fork of PYMC. \n",
    "+ [Skipper Seabold](http://jseabold.net/): The main developer of [statsmodels](http://statsmodels.sourceforge.net/)\n",
    "+ [Kevin Sheppard](http://www.kevinsheppard.com/wiki/Main_Page) from University of Oxford: author or the book [Python for Econometrics](https://www.kevinsheppard.com/Python_for_Econometrics). \n",
    "\n",
    "And finally [John Hunter](http://blog.fperez.org/2013/07/in-memoriam-john-d-hunter-iii-1968-2012.html), He was the founder and lead developer of [Matplotlib](http://matplotlib.org), a pivotal library to make Python a viable free and open-source alternative to commercial scientific software, and very sadly passed away in 2012.\n",
    "\n",
    "I encourage you - if you carry on using Python for science - to look up these people on google, have a look at their github repositories and the projects they contribute to, and follow them on twitter, some of them (*e.g.* Jake VanderPlas) have also very informative blogs. You can also donate to the [John Hunter memorial fund](http://numfocus.org/johnhunter.html) as a way to give back to an important contributor to the Python scientific community.\n",
    "\n",
    "---"
   ]
  },
  {
   "cell_type": "markdown",
   "metadata": {},
   "source": [
    "![](images/python.png)"
   ]
  },
  {
   "cell_type": "markdown",
   "metadata": {},
   "source": [
    "![](images/python.png)"
   ]
  },
  {
   "cell_type": "code",
   "execution_count": null,
   "metadata": {},
   "outputs": [],
   "source": []
  }
 ],
 "metadata": {
  "anaconda-cloud": {},
  "kernelspec": {
   "display_name": "Python 3",
   "language": "python",
   "name": "python3"
  },
  "language_info": {
   "codemirror_mode": {
    "name": "ipython",
    "version": 3
   },
   "file_extension": ".py",
   "mimetype": "text/x-python",
   "name": "python",
   "nbconvert_exporter": "python",
   "pygments_lexer": "ipython3",
   "version": "3.8.5"
  },
  "latex_envs": {
   "bibliofile": "biblio.bib",
   "cite_by": "apalike",
   "current_citInitial": 1,
   "eqLabelWithNumbers": true,
   "eqNumInitial": 0
  },
  "nav_menu": {},
  "toc": {
   "colors": {
    "hover_highlight": "#DAA520",
    "running_highlight": "#FF0000",
    "selected_highlight": "#FFD700"
   },
   "moveMenuLeft": true,
   "nav_menu": {
    "height": "407px",
    "width": "252px"
   },
   "navigate_menu": true,
   "number_sections": true,
   "sideBar": true,
   "threshold": 4,
   "toc_cell": false,
   "toc_section_display": "block",
   "toc_window_display": false,
   "widenNotebook": false
  }
 },
 "nbformat": 4,
 "nbformat_minor": 4
}
