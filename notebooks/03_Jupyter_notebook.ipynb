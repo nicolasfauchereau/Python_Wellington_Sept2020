{
 "cells": [
  {
   "cell_type": "markdown",
   "metadata": {},
   "source": [
    "## Overview of IPython interpreter and the Jupyter  notebook "
   ]
  },
  {
   "cell_type": "code",
   "execution_count": null,
   "metadata": {},
   "outputs": [],
   "source": [
    "from IPython.display import IFrame"
   ]
  },
  {
   "cell_type": "markdown",
   "metadata": {},
   "source": [
    "Python ships with a basic interactive **interpreter** ... not much fun here\n",
    "\n",
    "<div align=\"center\">\n",
    "<img src=\"./images/python_console.png\" width=\"700\">\n",
    "</div>\n",
    "\n",
    "[IPython](www.ipython.org) is an enhanced **interactive interpreter**, developped for scientific development, adding e.g. history, tab-completion, interactive help, and lots and lots of goodies: \n",
    "\n",
    "<div align=\"center\">\n",
    "<img src=\"./images/ipython_console.png\" width=\"700\">\n",
    "</div>\n",
    "\n",
    "The [jupyter qtconsole](http://jupyter.org/qtconsole/stable/) provides a number of enhancements only possible in a GUI, such as inline figures, proper multiline editing with syntax highlighting, graphical calltips, and much more. To launch it: \n",
    "\n",
    "```\n",
    "$ jupyter qtconsole\n",
    "```\n",
    "\n",
    "<div align=\"center\">\n",
    "<img src=\"./images/qtconsole.png\" width=\"700\">\n",
    "</div>\n",
    "\n",
    "Since 2005, the IPython development team has introduced the **IPython (now Jupyter) notebook**. This is a web application, running in the browser, that is connected to a Python kernel running in the background. "
   ]
  },
  {
   "cell_type": "code",
   "execution_count": null,
   "metadata": {},
   "outputs": [],
   "source": [
    "IFrame(src='https://ipython.org/notebook.html', width=900, height=600)"
   ]
  },
  {
   "cell_type": "markdown",
   "metadata": {},
   "source": [
    "<hr size=5>"
   ]
  },
  {
   "cell_type": "markdown",
   "metadata": {},
   "source": [
    "It behaves as an **interactive notebook**, in which you can weave Python code and outputs, figures generated from Python / matplotlib, images (either local and remote), websites, videos and richly formatted comments using [markdown](https://en.wikipedia.org/wiki/Markdown), which is a superset of HTML with a very simple syntax (see [here](www.markdown.com) for more) \n",
    "\n",
    "It is structured into executable cells, into which by default you can run arbitrary python code\n",
    "\n",
    "It has a sophisticated tab completion and help system \n",
    "\n",
    "The power of IPython / Jupyter comes in part because of its numerous extensions and *magic* functions\n",
    "\n",
    "And finally you can *export* a notebook in different formats, including HTML and Latex (and PDF). "
   ]
  },
  {
   "cell_type": "markdown",
   "metadata": {},
   "source": [
    "Recently the Jupyter / Ipython notebook as been featured in the **toolbox** section of [Nature](http://www.nature.com)"
   ]
  },
  {
   "cell_type": "code",
   "execution_count": null,
   "metadata": {},
   "outputs": [],
   "source": [
    "from IPython.display import HTML\n",
    "IFrame(src='http://www.nature.com/news/interactive-notebooks-sharing-the-code-1.16261', width=1000, height=350)"
   ]
  },
  {
   "cell_type": "markdown",
   "metadata": {},
   "source": [
    "## Using the Jupyter notebook"
   ]
  },
  {
   "cell_type": "markdown",
   "metadata": {},
   "source": [
    "To start a Jupyter notebook session open a command prompt, navigate to a desired working directory then issue the following command:\n",
    "\n",
    "`$ jupyter notebook`\n",
    "\n",
    "A new window open in your browser where you can open an existing notebook or start a new one.\n",
    "\n",
    "it should look like \n",
    "\n",
    "<div align=\"center\">\n",
    "<img src=\"https://github.com/nicolasfauchereau/Auckland_Python_Workshop/raw/master/images/jupyter_dashboard.png\" width=\"800\">\n",
    "</div>\n",
    "\n",
    "Notebooks are organized with **cells**. You may have a **code cell** for inputing commands followed by its result cell which contains the output of the code. You may also have a text cell, such as this one you're reading right now. Cell type can be changed in the above dropdown menu.\n",
    "\n",
    "There is the menubar above for navigating a notebook but you will find the following shortcuts helpful:\n",
    "\n",
    "- `Enter` : Enter the edit mode of a cell\n",
    "- `Esc` : Leave the edit mode and get into the *control* mode (see icons on the right of the menu bar)\n",
    "- `Shift + Enter` : Execute cell and advance to next cell (or use the play button <button class='fa fa-play icon-play btn btn-xs btn-default'></button> in the toolbar)\n",
    "- `Alt + Enter` : Execute cell and insert an empty cell below\n",
    "- `Ctrl + Enter` : Execute cell in place (do not advance to the next cell)\n",
    "- Press `esc` (command mode) then `h` to display keyboard shortcuts\n",
    "\n",
    "At times you might run code that gets stuck in an infinite loop or simply you want to clear all your workspace variables and start over. To do that you can do:\n",
    "\n",
    "`Kernel -> Interrupt`\n",
    "\n",
    "`Kernel -> Restart`\n"
   ]
  },
  {
   "cell_type": "markdown",
   "metadata": {},
   "source": [
    "### Using Jupyter lab "
   ]
  },
  {
   "cell_type": "markdown",
   "metadata": {},
   "source": [
    "[Jupyter lab](https://jupyterlab.readthedocs.io/en/stable/) is the 'next generation' computing environment / web interface for Jupyter "
   ]
  },
  {
   "cell_type": "code",
   "execution_count": null,
   "metadata": {},
   "outputs": [],
   "source": [
    "IFrame(src='https://jupyterlab.readthedocs.io/en/stable/getting_started/overview.html', width=1000, height=500)"
   ]
  },
  {
   "cell_type": "code",
   "execution_count": null,
   "metadata": {},
   "outputs": [],
   "source": [
    "# This is a code cell, containing python code, it is executed by <shift>-<enter> or <alt>-<enter>\n",
    "\n",
    "def square_that(x):\n",
    "    \"\"\"\n",
    "    this is a function that squares a number\n",
    "    \"\"\"\n",
    "    z = x**2\n",
    "    return z, str(x)"
   ]
  },
  {
   "cell_type": "code",
   "execution_count": null,
   "metadata": {},
   "outputs": [],
   "source": [
    "a, b = square_that(2)"
   ]
  },
  {
   "cell_type": "code",
   "execution_count": null,
   "metadata": {},
   "outputs": [],
   "source": [
    "a"
   ]
  },
  {
   "cell_type": "code",
   "execution_count": null,
   "metadata": {},
   "outputs": [],
   "source": [
    "b"
   ]
  },
  {
   "cell_type": "code",
   "execution_count": null,
   "metadata": {},
   "outputs": [],
   "source": [
    "square_that(2)"
   ]
  },
  {
   "cell_type": "markdown",
   "metadata": {},
   "source": [
    "### Getting help"
   ]
  },
  {
   "cell_type": "markdown",
   "metadata": {},
   "source": [
    "Jupyter has a sophisticated help and tab completion system, which allows **introspection**: i.e.\n",
    "If you want details regarding the properties and functionality of any Python objects currently loaded into your name space, you can use the `?` to reveal any details that are available:"
   ]
  },
  {
   "cell_type": "code",
   "execution_count": null,
   "metadata": {},
   "outputs": [],
   "source": [
    "square_that?"
   ]
  },
  {
   "cell_type": "code",
   "execution_count": null,
   "metadata": {},
   "outputs": [],
   "source": [
    "from numpy import random \n",
    "random.randn?"
   ]
  },
  {
   "cell_type": "markdown",
   "metadata": {},
   "source": [
    "### Tab completion"
   ]
  },
  {
   "cell_type": "markdown",
   "metadata": {},
   "source": [
    "Because Jupyter allows for introspection, it is able to afford the user the ability to tab-complete commands or objects that have been partially typed. This is done by pressing the `<tab>` key at any point during the process of typing a command:"
   ]
  },
  {
   "cell_type": "code",
   "execution_count": null,
   "metadata": {},
   "outputs": [],
   "source": [
    "listA = [1, 2., 'sentence', 1, (1,2), {'answer': 42}] # here I construct a LIST containing different items"
   ]
  },
  {
   "cell_type": "code",
   "execution_count": null,
   "metadata": {},
   "outputs": [],
   "source": [
    "listA.append(8)"
   ]
  },
  {
   "cell_type": "code",
   "execution_count": null,
   "metadata": {},
   "outputs": [],
   "source": [
    "listA"
   ]
  },
  {
   "cell_type": "code",
   "execution_count": null,
   "metadata": {},
   "outputs": [],
   "source": [
    "listA.index(8)"
   ]
  },
  {
   "cell_type": "markdown",
   "metadata": {},
   "source": [
    "### including markdown comments "
   ]
  },
  {
   "cell_type": "markdown",
   "metadata": {},
   "source": [
    "**see [markdown](http://daringfireball.net/projects/markdown/)**\n",
    "\n",
    "Using markdown cells, you can insert formatted comments, observations ... directly in between executable code and outputs ... \n",
    "\n",
    "To toggle from *code cell* (the default) to *markdown cell*, you can use the toolbar, or ```<ctrl>-<m> + <m>``` (```<command>-<m> + <m>``` on Macs)\n",
    "\n",
    "You can *italicize*, **boldface**\n",
    "\n",
    "\n",
    "\n",
    "+ build\n",
    "\n",
    "+ lists\n",
    "\n",
    "\n",
    "1. enumerate  \n",
    "\n",
    "2. stuff\n",
    "\n",
    "and embed <font color='red'>syntax</font> highlighted code meant for illustration instead of execution in Python:\n",
    "\n",
    "```python\n",
    "print('hello')\n",
    "```\n",
    "\n",
    "```python\n",
    "def f(x):\n",
    "    \"\"\"a docstring\"\"\"\n",
    "    return x**2\n",
    "```\n",
    "\n",
    "or other languages:\n",
    "\n",
    "```C\n",
    "/* Fibonacci Series c language */\n",
    "#include<stdio.h>\n",
    " \n",
    "int main()\n",
    "{\n",
    "   int n, first = 0, second = 1, next, c;\n",
    " \n",
    "   printf(\"Enter the number of terms\\n\");\n",
    "   scanf(\"%d\",&n);\n",
    " \n",
    "   printf(\"First %d terms of Fibonacci series are :-\\n\",n);\n",
    " \n",
    "   for ( c = 0 ; c < n ; c++ )\n",
    "   {\n",
    "      if ( c <= 1 )\n",
    "         next = c;\n",
    "      else\n",
    "      {\n",
    "         next = first + second;\n",
    "         first = second;\n",
    "         second = next;\n",
    "      }\n",
    "      printf(\"%d\\n\",next);\n",
    "   }\n",
    " \n",
    "   return 0;\n",
    "}\n",
    "```"
   ]
  },
  {
   "cell_type": "markdown",
   "metadata": {},
   "source": [
    "You can insert images seemlessly into a Markdown cell, either from the web or from a local folder, by giving the **relative** path\n",
    "\n",
    "The syntax is then \n",
    "\n",
    "    ![](./images/presentation.png)\n",
    "    \n",
    "will render\n",
    "\n",
    "![tag](./images/presentation.png)"
   ]
  },
  {
   "cell_type": "markdown",
   "metadata": {},
   "source": [
    "### Mathematical expressions "
   ]
  },
  {
   "cell_type": "markdown",
   "metadata": {},
   "source": [
    "Thanks to [MathJax](www.wikipedia/mathjax), you can include mathematical expressions in a markdown cell using Latex syntax both inline and displayed: \n",
    "\n",
    "+ inline: `$ Latex expression here $`\n",
    "\n",
    "+ displayed: `$$ Latex expression here $$`\n",
    "\n",
    "\n",
    "For example ```$e^{i\\pi} + 1 = 0$``` becomes $e^{i\\pi} + 1 = 0$ \n",
    "\n",
    "and \n",
    "\n",
    "```$$e^x=\\sum_{i=0}^\\infty \\frac{1}{i!}x^i$$```\n",
    "\n",
    "becomes: \n",
    "\n",
    "$$e^x=\\sum_{i=0}^\\infty \\frac{1}{i!}x^i$$\n",
    "\n",
    "Mathjax is a JavaScript library, and by default IPython uses the online version, from the [Mathjax Content Distribution Network](http://cdn.mathjax.org/) (CDN), if you want  to be able to use it **offline**, you need to install MathJax locally by running that (once and for all) in a code cell: \n",
    "\n",
    "```python\n",
    "from IPython.external.mathjax import install_mathjax\n",
    "install_mathjax()\n",
    "```"
   ]
  },
  {
   "cell_type": "markdown",
   "metadata": {},
   "source": [
    "$$e^x=\\sum_{i=0}^\\infty \\frac{1}{i!}x^i$$"
   ]
  },
  {
   "cell_type": "markdown",
   "metadata": {},
   "source": [
    "### The IPython notebook rich display system"
   ]
  },
  {
   "cell_type": "code",
   "execution_count": null,
   "metadata": {},
   "outputs": [],
   "source": [
    "from IPython.display import Image, YouTubeVideo, VimeoVideo"
   ]
  },
  {
   "cell_type": "code",
   "execution_count": null,
   "metadata": {},
   "outputs": [],
   "source": [
    "### that will display a frame with specified width and height ... \n",
    "\n",
    "from IPython.display import IFrame\n",
    "IFrame(\"http://numpy.org/\", height=300, width=1000)"
   ]
  },
  {
   "cell_type": "code",
   "execution_count": null,
   "metadata": {},
   "outputs": [],
   "source": [
    "### This inserts an image in the output cell\n",
    "\n",
    "Image(url='https://niwa.co.nz/sites/niwa.co.nz/files/styles/large/public/SCOSeptNovGraphic1.jpg', width=900)"
   ]
  },
  {
   "cell_type": "code",
   "execution_count": null,
   "metadata": {},
   "outputs": [],
   "source": [
    "YouTubeVideo('DqIHmO_dWLQ')  "
   ]
  },
  {
   "cell_type": "code",
   "execution_count": null,
   "metadata": {},
   "outputs": [],
   "source": [
    "VimeoVideo('326960621')"
   ]
  },
  {
   "cell_type": "markdown",
   "metadata": {},
   "source": [
    "### Inline plots with matplotlib "
   ]
  },
  {
   "cell_type": "markdown",
   "metadata": {},
   "source": [
    "That is one of the most appealing aspect of the IPython notebook: the graphic outputs of some Python code can be displayed directly in the notebook, there is in particular great integration with the \n",
    "Python plotting library [Matplotlib](http://www.matplotlib.org) as well as all libraries build on top of it, via the `%matplotlib inline` magic command"
   ]
  },
  {
   "cell_type": "code",
   "execution_count": null,
   "metadata": {},
   "outputs": [],
   "source": [
    "%matplotlib inline"
   ]
  },
  {
   "cell_type": "code",
   "execution_count": null,
   "metadata": {},
   "outputs": [],
   "source": [
    "import numpy as np\n",
    "import matplotlib.pyplot as plt"
   ]
  },
  {
   "cell_type": "code",
   "execution_count": null,
   "metadata": {},
   "outputs": [],
   "source": [
    "t = np.linspace(0, 2*np.pi, 100)\n",
    "plt.plot(np.sin(t))"
   ]
  },
  {
   "cell_type": "markdown",
   "metadata": {},
   "source": [
    "### Some useful magic commands in IPython"
   ]
  },
  {
   "cell_type": "code",
   "execution_count": null,
   "metadata": {},
   "outputs": [],
   "source": [
    "# for a list of available magic command \n",
    "%lsmagic"
   ]
  },
  {
   "cell_type": "markdown",
   "metadata": {},
   "source": [
    "For example \n",
    "\n",
    "    %whos\n",
    "\n",
    "list all variables (incl. classes, functions, etc) in the **namespace**"
   ]
  },
  {
   "cell_type": "code",
   "execution_count": null,
   "metadata": {},
   "outputs": [],
   "source": [
    "%whos "
   ]
  },
  {
   "cell_type": "markdown",
   "metadata": {},
   "source": [
    "### Writing the content of a cell to file "
   ]
  },
  {
   "cell_type": "code",
   "execution_count": null,
   "metadata": {},
   "outputs": [],
   "source": [
    "%%writefile ~/Desktop/tmp.py\n",
    "#!/home/nicolasf/anaconda/bin/python\n",
    "import numpy as np\n",
    "\n",
    "print('Hello Wellington')\n",
    "\n",
    "b = np.arange(5) ### will be available in the namespace "
   ]
  },
  {
   "cell_type": "markdown",
   "metadata": {},
   "source": [
    "### Running some external python script (local or online)"
   ]
  },
  {
   "cell_type": "code",
   "execution_count": null,
   "metadata": {},
   "outputs": [],
   "source": [
    "%run /home/nicolasf/Desktop/tmp.py"
   ]
  },
  {
   "cell_type": "code",
   "execution_count": null,
   "metadata": {},
   "outputs": [],
   "source": [
    "b"
   ]
  },
  {
   "cell_type": "markdown",
   "metadata": {},
   "source": [
    "### Loading the content of some local python script "
   ]
  },
  {
   "cell_type": "markdown",
   "metadata": {},
   "source": [
    "you can load actually anything, e.g. a Markdown file"
   ]
  },
  {
   "cell_type": "code",
   "execution_count": null,
   "metadata": {},
   "outputs": [],
   "source": [
    "# %load /home/nicolasf/Desktop/tmp.py\n",
    "#!/home/nicolasf/anaconda/bin/python\n",
    "import numpy as np\n",
    "\n",
    "print('Hello Wellington')\n",
    "\n",
    "b = np.arange(5) ### will be available in the namespace \n"
   ]
  },
  {
   "cell_type": "markdown",
   "metadata": {},
   "source": [
    "works as well for scripts available online"
   ]
  },
  {
   "cell_type": "code",
   "execution_count": null,
   "metadata": {},
   "outputs": [],
   "source": [
    "# %load https://matplotlib.org/_downloads/e08194fbd26985341907d3fbfbe07ddb/histogram_features.py\n",
    "\"\"\"\n",
    "==============================================\n",
    "Some features of the histogram (hist) function\n",
    "==============================================\n",
    "\n",
    "In addition to the basic histogram, this demo shows a few optional features:\n",
    "\n",
    "* Setting the number of data bins.\n",
    "* The *density* parameter, which normalizes bin heights so that the integral of\n",
    "  the histogram is 1. The resulting histogram is an approximation of the\n",
    "  probability density function.\n",
    "* Setting the face color of the bars.\n",
    "* Setting the opacity (alpha value).\n",
    "\n",
    "Selecting different bin counts and sizes can significantly affect the shape\n",
    "of a histogram. The Astropy docs have a great section_ on how to select these\n",
    "parameters.\n",
    "\n",
    ".. _section: http://docs.astropy.org/en/stable/visualization/histogram.html\n",
    "\"\"\"\n",
    "\n",
    "import matplotlib\n",
    "import numpy as np\n",
    "import matplotlib.pyplot as plt\n",
    "\n",
    "np.random.seed(19680801)\n",
    "\n",
    "# example data\n",
    "mu = 100  # mean of distribution\n",
    "sigma = 15  # standard deviation of distribution\n",
    "x = mu + sigma * np.random.randn(437)\n",
    "\n",
    "num_bins = 50\n",
    "\n",
    "fig, ax = plt.subplots()\n",
    "\n",
    "# the histogram of the data\n",
    "n, bins, patches = ax.hist(x, num_bins, density=True)\n",
    "\n",
    "# add a 'best fit' line\n",
    "y = ((1 / (np.sqrt(2 * np.pi) * sigma)) *\n",
    "     np.exp(-0.5 * (1 / sigma * (bins - mu))**2))\n",
    "ax.plot(bins, y, '--')\n",
    "ax.set_xlabel('Smarts')\n",
    "ax.set_ylabel('Probability density')\n",
    "ax.set_title(r'Histogram of IQ: $\\mu=100$, $\\sigma=15$')\n",
    "\n",
    "# Tweak spacing to prevent clipping of ylabel\n",
    "fig.tight_layout()\n",
    "plt.show()\n",
    "\n",
    "#############################################################################\n",
    "#\n",
    "# ------------\n",
    "#\n",
    "# References\n",
    "# \"\"\"\"\"\"\"\"\"\"\n",
    "#\n",
    "# The use of the following functions and methods is shown in this example:\n",
    "\n",
    "matplotlib.axes.Axes.hist\n",
    "matplotlib.axes.Axes.set_title\n",
    "matplotlib.axes.Axes.set_xlabel\n",
    "matplotlib.axes.Axes.set_ylabel\n"
   ]
  },
  {
   "cell_type": "markdown",
   "metadata": {},
   "source": [
    "### Interacting with the OS: the IPython notebook as an enhanced shell"
   ]
  },
  {
   "cell_type": "code",
   "execution_count": null,
   "metadata": {},
   "outputs": [],
   "source": [
    "!ls"
   ]
  },
  {
   "cell_type": "code",
   "execution_count": null,
   "metadata": {},
   "outputs": [],
   "source": [
    "notebooks = !ls *.ipynb ### notebooks is a python list ... not sure how to use wildcards on Windows"
   ]
  },
  {
   "cell_type": "code",
   "execution_count": null,
   "metadata": {},
   "outputs": [],
   "source": [
    "import subprocess"
   ]
  },
  {
   "cell_type": "code",
   "execution_count": null,
   "metadata": {},
   "outputs": [],
   "source": [
    "subprocess.call('ls -ltr', shell=True)"
   ]
  },
  {
   "cell_type": "code",
   "execution_count": null,
   "metadata": {},
   "outputs": [],
   "source": [
    "type(notebooks)"
   ]
  },
  {
   "cell_type": "code",
   "execution_count": null,
   "metadata": {},
   "outputs": [],
   "source": [
    "notebooks"
   ]
  },
  {
   "cell_type": "markdown",
   "metadata": {},
   "source": [
    "And if you need to actually quickly put together and run a bash script (linux / Mac), you don't need to escape the IPython notebook thanks to the \n",
    "\n",
    "    %%bash \n",
    "    \n",
    "cell magic ..."
   ]
  },
  {
   "cell_type": "code",
   "execution_count": null,
   "metadata": {},
   "outputs": [],
   "source": [
    "%%bash\n",
    "\n",
    "# Substitutes underscores for blanks in all the filenames in a directory.\n",
    "\n",
    "ONE=1                     # For getting singular/plural right (see below).\n",
    "number=0                  # Keeps track of how many files actually renamed.\n",
    "FOUND=0                   # Successful return value.\n",
    "\n",
    "for filename in *         # Traverses all files in directory.\n",
    "do\n",
    "     echo \"$filename\" | grep -q \" \"         # Checks whether filename\n",
    "     if [ $? -eq $FOUND ]                   # contains space(s).\n",
    "     then\n",
    "       fname=$filename                      # Strips off path.\n",
    "       n=`echo $fname | sed -e \"s/ /_/g\"`   # Substitutes underscore for blank.\n",
    "       mv \"$fname\" \"$n\"                     # Do the actual renaming.\n",
    "       let \"number += 1\"\n",
    "     fi\n",
    "done   \n",
    "\n",
    "if [ \"$number\" -eq \"$ONE\" ]                 # For correct grammar.\n",
    "then\n",
    " echo \"$number file renamed.\"\n",
    "else \n",
    " echo \"$number files renamed.\"\n",
    "fi \n",
    "\n",
    "exit 0"
   ]
  },
  {
   "cell_type": "markdown",
   "metadata": {},
   "source": [
    "### Exporting your notebook in other formats "
   ]
  },
  {
   "cell_type": "markdown",
   "metadata": {},
   "source": [
    "A notebook (extension .ipynb) is actually just a [JSON](http://en.wikipedia.org/wiki/JSON) file, using built-in converters you can \n",
    "convert a notebook into a variety of formats for sharing, illustration, publishing, etc. "
   ]
  },
  {
   "cell_type": "code",
   "execution_count": null,
   "metadata": {},
   "outputs": [],
   "source": [
    "!jupyter  nbconvert --help"
   ]
  },
  {
   "cell_type": "code",
   "execution_count": null,
   "metadata": {},
   "outputs": [],
   "source": [
    "name = '03_Jupyter_notebook'"
   ]
  },
  {
   "cell_type": "code",
   "execution_count": null,
   "metadata": {},
   "outputs": [],
   "source": [
    "!jupyter nbconvert {name}.ipynb --to html"
   ]
  },
  {
   "cell_type": "code",
   "execution_count": null,
   "metadata": {},
   "outputs": [],
   "source": [
    "IFrame(src='./03_Jupyter_notebook.html', width=1000, height=500)"
   ]
  },
  {
   "cell_type": "markdown",
   "metadata": {},
   "source": [
    "## Sharing your Jupyter notebook"
   ]
  },
  {
   "cell_type": "markdown",
   "metadata": {},
   "source": [
    "1. host your jupyter notebook on the public internet (e.g. [github](http://github.com) repo, github gist)\n",
    "2. go to [http://nbviewer.ipython.org/](http://nbviewer.ipython.org/) and copy the URL\n",
    "3. Note that now github automatically renders IPython / Jupyter notebooks"
   ]
  },
  {
   "cell_type": "code",
   "execution_count": null,
   "metadata": {},
   "outputs": [],
   "source": []
  }
 ],
 "metadata": {
  "anaconda-cloud": {},
  "kernelspec": {
   "display_name": "Python 3",
   "language": "python",
   "name": "python3"
  },
  "language_info": {
   "codemirror_mode": {
    "name": "ipython",
    "version": 3
   },
   "file_extension": ".py",
   "mimetype": "text/x-python",
   "name": "python",
   "nbconvert_exporter": "python",
   "pygments_lexer": "ipython3",
   "version": "3.8.5"
  },
  "latex_envs": {
   "bibliofile": "biblio.bib",
   "cite_by": "apalike",
   "current_citInitial": 1,
   "eqLabelWithNumbers": true,
   "eqNumInitial": 0
  },
  "nav_menu": {},
  "toc": {
   "colors": {
    "hover_highlight": "#DAA520",
    "running_highlight": "#FF0000",
    "selected_highlight": "#FFD700"
   },
   "moveMenuLeft": true,
   "nav_menu": {
    "height": "280px",
    "width": "252px"
   },
   "navigate_menu": true,
   "number_sections": true,
   "sideBar": true,
   "threshold": 4,
   "toc_cell": false,
   "toc_section_display": "block",
   "toc_window_display": false,
   "widenNotebook": false
  }
 },
 "nbformat": 4,
 "nbformat_minor": 4
}
